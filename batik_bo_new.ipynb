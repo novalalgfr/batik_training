{
 "cells": [
  {
   "cell_type": "markdown",
   "id": "66d1e692",
   "metadata": {},
   "source": [
    "### **Import Libraries**"
   ]
  },
  {
   "cell_type": "code",
   "execution_count": null,
   "id": "6b47ea7a",
   "metadata": {},
   "outputs": [],
   "source": [
    "import tensorflow as tf\n",
    "import numpy as np\n",
    "import matplotlib.pyplot as plt\n",
    "import cv2\n",
    "import os\n",
    "from sklearn.metrics import classification_report, confusion_matrix\n",
    "from tensorflow.keras.preprocessing import image\n",
    "from tensorflow.keras.callbacks import EarlyStopping, ReduceLROnPlateau, ModelCheckpoint\n",
    "import seaborn as sns"
   ]
  },
  {
   "cell_type": "markdown",
   "id": "420aa65c",
   "metadata": {},
   "source": [
    "### **Dataset Configuration**"
   ]
  },
  {
   "cell_type": "code",
   "execution_count": null,
   "id": "3f4ef0a6",
   "metadata": {},
   "outputs": [],
   "source": [
    "dataset_dir = 'batik_jogja'\n",
    "batch_size = 32\n",
    "img_size = (224, 224)\n",
    "EPOCHS = 100"
   ]
  },
  {
   "cell_type": "markdown",
   "id": "ae5d6010",
   "metadata": {},
   "source": [
    "### **Load Dataset**"
   ]
  },
  {
   "cell_type": "code",
   "execution_count": null,
   "id": "5866c983",
   "metadata": {},
   "outputs": [],
   "source": [
    "print(\"Loading dataset...\")\n",
    "\n",
    "dataset = tf.keras.utils.image_dataset_from_directory(\n",
    "    dataset_dir,\n",
    "    image_size=img_size,\n",
    "    batch_size=batch_size,\n",
    "    validation_split=0.2,\n",
    "    subset=\"training\",\n",
    "    seed=123\n",
    ")\n",
    "\n",
    "val_dataset = tf.keras.utils.image_dataset_from_directory(\n",
    "    dataset_dir,\n",
    "    image_size=img_size,\n",
    "    batch_size=batch_size,\n",
    "    validation_split=0.2,\n",
    "    subset=\"validation\",\n",
    "    seed=123\n",
    ")\n",
    "\n",
    "class_names = dataset.class_names\n",
    "print(\"Kelas ditemukan:\", class_names)"
   ]
  },
  {
   "cell_type": "markdown",
   "id": "0b74beb4",
   "metadata": {},
   "source": [
    "### **Build EfficientNetB0 Model**"
   ]
  },
  {
   "cell_type": "code",
   "execution_count": null,
   "id": "836bc72f",
   "metadata": {},
   "outputs": [],
   "source": [
    "print(\"Building model...\")\n",
    "\n",
    "base_model = tf.keras.applications.EfficientNetB0(\n",
    "    include_top=False,\n",
    "    weights='imagenet',\n",
    "    input_shape=img_size + (3,),\n",
    "    pooling='avg'\n",
    ")\n",
    "\n",
    "base_model.trainable = False\n",
    "\n",
    "inputs = tf.keras.Input(shape=img_size + (3,))\n",
    "x = tf.keras.applications.efficientnet.preprocess_input(inputs)\n",
    "x = base_model(x)\n",
    "outputs = tf.keras.layers.Dense(len(class_names), activation='softmax')(x)\n",
    "\n",
    "model = tf.keras.Model(inputs=inputs, outputs=outputs)\n",
    "\n",
    "model.compile(\n",
    "    optimizer='adam',\n",
    "    loss='sparse_categorical_crossentropy',\n",
    "    metrics=['accuracy']\n",
    ")\n",
    "\n",
    "model.summary()"
   ]
  },
  {
   "cell_type": "markdown",
   "id": "4f8f0e7e",
   "metadata": {},
   "source": [
    "### **Callbacks Setup**"
   ]
  },
  {
   "cell_type": "code",
   "execution_count": null,
   "id": "4289492a",
   "metadata": {},
   "outputs": [],
   "source": [
    "callbacks = [\n",
    "    EarlyStopping(\n",
    "        monitor='val_loss',\n",
    "        patience=15,\n",
    "        restore_best_weights=True,\n",
    "        verbose=1\n",
    "    ),\n",
    "    ReduceLROnPlateau(\n",
    "        monitor='val_loss',\n",
    "        factor=0.5,\n",
    "        patience=10,\n",
    "        min_lr=1e-7,\n",
    "        verbose=1\n",
    "    ),\n",
    "    ModelCheckpoint(\n",
    "        'best_batik_model.h5',\n",
    "        monitor='val_accuracy',\n",
    "        save_best_only=True,\n",
    "        verbose=1\n",
    "    )\n",
    "]"
   ]
  },
  {
   "cell_type": "markdown",
   "id": "997434f9",
   "metadata": {},
   "source": [
    "### **Start Model Training**"
   ]
  },
  {
   "cell_type": "code",
   "execution_count": null,
   "id": "2132258e",
   "metadata": {},
   "outputs": [],
   "source": [
    "print(\"Starting training...\")\n",
    "\n",
    "history = model.fit(\n",
    "    dataset,\n",
    "    validation_data=val_dataset,\n",
    "    epochs=EPOCHS,\n",
    "    callbacks=callbacks\n",
    ")"
   ]
  },
  {
   "cell_type": "markdown",
   "id": "7b3256bb",
   "metadata": {},
   "source": [
    "### **Save Final Model**"
   ]
  },
  {
   "cell_type": "code",
   "execution_count": null,
   "id": "f1d9296c",
   "metadata": {},
   "outputs": [],
   "source": [
    "model_path = 'batik_model_jogja_final.h5'\n",
    "model.save(model_path)\n",
    "print(f\"✅ Model disimpan sebagai '{model_path}'\")"
   ]
  },
  {
   "cell_type": "markdown",
   "id": "ac492e5d",
   "metadata": {},
   "source": [
    "### **Model Evaluation**"
   ]
  },
  {
   "cell_type": "markdown",
   "id": "3ae3927c",
   "metadata": {},
   "source": [
    "#### **1. Classification Report**"
   ]
  },
  {
   "cell_type": "code",
   "execution_count": null,
   "id": "38d38bba",
   "metadata": {},
   "outputs": [],
   "source": [
    "print(\"\\n=== CLASSIFICATION REPORT ===\")\n",
    "y_true = []\n",
    "y_pred = []\n",
    "\n",
    "for batch_images, batch_labels in val_dataset:\n",
    "    preds = model.predict(batch_images)\n",
    "    y_true.extend(batch_labels.numpy())\n",
    "    y_pred.extend(np.argmax(preds, axis=1))\n",
    "\n",
    "print(classification_report(y_true, y_pred, target_names=class_names))"
   ]
  },
  {
   "cell_type": "markdown",
   "id": "46772fa1",
   "metadata": {},
   "source": [
    "#### **2. Training History Visualization**"
   ]
  },
  {
   "cell_type": "code",
   "execution_count": null,
   "id": "020eb169",
   "metadata": {},
   "outputs": [],
   "source": [
    "print(\"\\n=== TRAINING HISTORY ===\")\n",
    "plt.figure(figsize=(15, 5))\n",
    "\n",
    "# Accuracy\n",
    "plt.subplot(1, 3, 1)\n",
    "plt.plot(history.history['accuracy'], label='Train Accuracy', color='blue')\n",
    "plt.plot(history.history['val_accuracy'], label='Val Accuracy', color='red')\n",
    "plt.title('Model Accuracy')\n",
    "plt.xlabel('Epoch')\n",
    "plt.ylabel('Accuracy')\n",
    "plt.legend()\n",
    "plt.grid(True)\n",
    "\n",
    "# Loss\n",
    "plt.subplot(1, 3, 2)\n",
    "plt.plot(history.history['loss'], label='Train Loss', color='blue')\n",
    "plt.plot(history.history['val_loss'], label='Val Loss', color='red')\n",
    "plt.title('Model Loss')\n",
    "plt.xlabel('Epoch')\n",
    "plt.ylabel('Loss')\n",
    "plt.legend()\n",
    "plt.grid(True)\n",
    "\n",
    "# Learning Rate\n",
    "plt.subplot(1, 3, 3)\n",
    "if 'lr' in history.history:\n",
    "    plt.plot(history.history['lr'], label='Learning Rate', color='green')\n",
    "    plt.title('Learning Rate')\n",
    "    plt.xlabel('Epoch')\n",
    "    plt.ylabel('Learning Rate')\n",
    "    plt.legend()\n",
    "    plt.grid(True)\n",
    "else:\n",
    "    plt.text(0.5, 0.5, 'Learning Rate\\nNot Available',\n",
    "             horizontalalignment='center', verticalalignment='center',\n",
    "             transform=plt.gca().transAxes)\n",
    "    plt.title('Learning Rate')\n",
    "\n",
    "plt.tight_layout()\n",
    "plt.show()"
   ]
  },
  {
   "cell_type": "markdown",
   "id": "f6790b28",
   "metadata": {},
   "source": [
    "#### **3. Confusion Matrix**"
   ]
  },
  {
   "cell_type": "code",
   "execution_count": null,
   "id": "eda8a575",
   "metadata": {},
   "outputs": [],
   "source": [
    "print(\"\\n=== CONFUSION MATRIX ===\")\n",
    "cm = confusion_matrix(y_true, y_pred)\n",
    "\n",
    "plt.figure(figsize=(10, 8))\n",
    "sns.heatmap(cm, annot=True, fmt='d', cmap='Blues',\n",
    "            xticklabels=class_names, yticklabels=class_names)\n",
    "plt.title('Confusion Matrix')\n",
    "plt.xlabel('Predicted Label')\n",
    "plt.ylabel('True Label')\n",
    "plt.tight_layout()\n",
    "plt.show()\n",
    "\n",
    "# Additional Metrics\n",
    "print(f\"\\nTotal Samples: {len(y_true)}\")\n",
    "print(f\"Correct Predictions: {np.sum(np.array(y_true) == np.array(y_pred))}\")\n",
    "print(f\"Overall Accuracy: {np.sum(np.array(y_true) == np.array(y_pred)) / len(y_true) * 100:.2f}%\")"
   ]
  },
  {
   "cell_type": "markdown",
   "id": "cda98418",
   "metadata": {},
   "source": [
    "### **Image Prediction Function**"
   ]
  },
  {
   "cell_type": "code",
   "execution_count": null,
   "id": "06531689",
   "metadata": {},
   "outputs": [],
   "source": [
    "def predict_image(model, img_path, class_names):\n",
    "    \"\"\"\n",
    "    Prediksi gambar batik baru.\n",
    "    \n",
    "    Args:\n",
    "        model: Model terlatih\n",
    "        img_path: Path ke gambar\n",
    "        class_names: Daftar nama kelas\n",
    "    \"\"\"\n",
    "    try:\n",
    "        img = image.load_img(img_path, target_size=img_size)\n",
    "        img_array = image.img_to_array(img)\n",
    "        img_array_exp = tf.expand_dims(img_array, 0)\n",
    "        img_array_preprocessed = tf.keras.applications.efficientnet.preprocess_input(img_array_exp)\n",
    "\n",
    "        predictions = model.predict(img_array_preprocessed)\n",
    "        predicted_class = np.argmax(predictions[0])\n",
    "        confidence = predictions[0][predicted_class] * 100\n",
    "\n",
    "        # Display image with prediction\n",
    "        plt.figure(figsize=(8, 6))\n",
    "        plt.imshow(img)\n",
    "        plt.axis('off')\n",
    "        plt.title(f\"Predicted: {class_names[predicted_class]} ({confidence:.2f}%)\")\n",
    "        plt.show()\n",
    "\n",
    "        # Print prediction\n",
    "        print(\"\\n=== HASIL KLASIFIKASI ===\")\n",
    "        print(f\"Motif Terdeteksi: {class_names[predicted_class]}\")\n",
    "        print(f\"Confidence: {confidence:.2f}%\")\n",
    "\n",
    "        # Print all probabilities\n",
    "        print(\"\\nProbabilitas semua kelas:\")\n",
    "        for i, class_name in enumerate(class_names):\n",
    "            prob = predictions[0][i] * 100\n",
    "            print(f\"{class_name}: {prob:.2f}%\")\n",
    "\n",
    "    except Exception as e:\n",
    "        print(f\"Error: {e}\")\n",
    "        print(\"Pastikan file gambar ada dan dapat dibaca.\")"
   ]
  },
  {
   "cell_type": "code",
   "execution_count": null,
   "id": "d7b390d9",
   "metadata": {},
   "outputs": [],
   "source": [
    "img_path = 'batik_ceplok_0162.jpg'\n",
    "if os.path.exists(img_path):\n",
    "    predict_image(model, img_path, class_names)\n",
    "else:\n",
    "    print(f\"File {img_path} tidak ditemukan. Silakan ganti dengan path yang benar.\")"
   ]
  }
 ],
 "metadata": {
  "kernelspec": {
   "display_name": "Python 3",
   "language": "python",
   "name": "python3"
  },
  "language_info": {
   "codemirror_mode": {
    "name": "ipython",
    "version": 3
   },
   "file_extension": ".py",
   "mimetype": "text/x-python",
   "name": "python",
   "nbconvert_exporter": "python",
   "pygments_lexer": "ipython3",
   "version": "3.10.11"
  }
 },
 "nbformat": 4,
 "nbformat_minor": 5
}
