{
 "cells": [
  {
   "cell_type": "code",
   "execution_count": 13,
   "id": "1c9e802c",
   "metadata": {},
   "outputs": [],
   "source": [
    "# Import library yang dibutuhkan\n",
    "import tensorflow as tf\n",
    "import tensorflow_hub as hub\n",
    "import numpy as np\n",
    "import matplotlib.pyplot as plt\n",
    "from sklearn.metrics import classification_report, accuracy_score, precision_score, recall_score"
   ]
  },
  {
   "cell_type": "code",
   "execution_count": 14,
   "id": "90ec4f59",
   "metadata": {},
   "outputs": [],
   "source": [
    "# Konfigurasi parameter untuk model dan data\n",
    "IMG_SIZE = (224, 224)\n",
    "BATCH_SIZE = 32\n",
    "DATASET_DIR = 'batik_jogja' # Pastikan folder ini ada di direktori yang sama\n",
    "LEARNING_RATE = 0.001\n",
    "EPOCHS = 10 # Anda bisa menambahkannya untuk akurasi yang lebih baik\n",
    "\n",
    "# URL model EfficientNet-Lite0 dari TensorFlow Hub\n",
    "HUB_MODEL_URL = \"https://tfhub.dev/tensorflow/efficientnet/lite0/feature-vector/2\""
   ]
  },
  {
   "cell_type": "code",
   "execution_count": 15,
   "id": "2667013d",
   "metadata": {},
   "outputs": [
    {
     "name": "stdout",
     "output_type": "stream",
     "text": [
      "Memuat dataset dari direktori...\n",
      "Found 1350 files belonging to 6 classes.\n",
      "Using 1080 files for training.\n",
      "Found 1350 files belonging to 6 classes.\n",
      "Using 270 files for validation.\n",
      "\n",
      "Kelas yang ditemukan: ['batik_ceplok' 'batik_kawung' 'batik_nitik' 'batik_parang'\n",
      " 'batik_sidoluhur' 'batik_truntum']\n"
     ]
    }
   ],
   "source": [
    "print(\"Memuat dataset dari direktori...\")\n",
    "\n",
    "# Dataset untuk training (80% dari data)\n",
    "train_dataset = tf.keras.utils.image_dataset_from_directory(\n",
    "    DATASET_DIR,\n",
    "    image_size=IMG_SIZE,\n",
    "    batch_size=BATCH_SIZE,\n",
    "    validation_split=0.2,\n",
    "    subset=\"training\",\n",
    "    seed=123\n",
    ")\n",
    "\n",
    "# Dataset untuk validasi (20% dari data)\n",
    "validation_dataset = tf.keras.utils.image_dataset_from_directory(\n",
    "    DATASET_DIR,\n",
    "    image_size=IMG_SIZE,\n",
    "    batch_size=BATCH_SIZE,\n",
    "    validation_split=0.2,\n",
    "    subset=\"validation\",\n",
    "    seed=123\n",
    ")\n",
    "\n",
    "# Simpan nama kelas\n",
    "class_names = np.array(train_dataset.class_names)\n",
    "num_classes = len(class_names)\n",
    "print(\"\\nKelas yang ditemukan:\", class_names)"
   ]
  },
  {
   "cell_type": "code",
   "execution_count": 16,
   "id": "ae5b4110",
   "metadata": {},
   "outputs": [
    {
     "name": "stdout",
     "output_type": "stream",
     "text": [
      "\n",
      "Dataset siap digunakan.\n"
     ]
    }
   ],
   "source": [
    "# Menggunakan cache dan prefetch untuk mempercepat loading data saat training\n",
    "AUTOTUNE = tf.data.AUTOTUNE\n",
    "\n",
    "train_dataset = train_dataset.cache().prefetch(buffer_size=AUTOTUNE)\n",
    "validation_dataset = validation_dataset.cache().prefetch(buffer_size=AUTOTUNE)\n",
    "\n",
    "print(\"\\nDataset siap digunakan.\")"
   ]
  },
  {
   "cell_type": "code",
   "execution_count": 17,
   "id": "552e7d8e",
   "metadata": {},
   "outputs": [
    {
     "name": "stdout",
     "output_type": "stream",
     "text": [
      "Membangun model Keras dengan metode Subclassing...\n"
     ]
    },
    {
     "name": "stderr",
     "output_type": "stream",
     "text": [
      "c:\\Users\\Noval.DESKTOP-G118GKA\\AppData\\Local\\Programs\\Python\\Python310\\lib\\site-packages\\keras\\src\\layers\\layer.py:421: UserWarning: `build()` was called on layer 'batik_lite_model_1', however the layer does not have a `build()` method implemented and it looks like it has unbuilt state. This will cause the layer to be marked as built, despite not being actually built, which may cause failures down the line. Make sure to implement a proper `build()` method.\n",
      "  warnings.warn(\n"
     ]
    },
    {
     "data": {
      "text/html": [
       "<pre style=\"white-space:pre;overflow-x:auto;line-height:normal;font-family:Menlo,'DejaVu Sans Mono',consolas,'Courier New',monospace\"><span style=\"font-weight: bold\">Model: \"batik_lite_model_1\"</span>\n",
       "</pre>\n"
      ],
      "text/plain": [
       "\u001b[1mModel: \"batik_lite_model_1\"\u001b[0m\n"
      ]
     },
     "metadata": {},
     "output_type": "display_data"
    },
    {
     "data": {
      "text/html": [
       "<pre style=\"white-space:pre;overflow-x:auto;line-height:normal;font-family:Menlo,'DejaVu Sans Mono',consolas,'Courier New',monospace\">┏━━━━━━━━━━━━━━━━━━━━━━━━━━━━━━━━━┳━━━━━━━━━━━━━━━━━━━━━━━━┳━━━━━━━━━━━━━━━┓\n",
       "┃<span style=\"font-weight: bold\"> Layer (type)                    </span>┃<span style=\"font-weight: bold\"> Output Shape           </span>┃<span style=\"font-weight: bold\">       Param # </span>┃\n",
       "┡━━━━━━━━━━━━━━━━━━━━━━━━━━━━━━━━━╇━━━━━━━━━━━━━━━━━━━━━━━━╇━━━━━━━━━━━━━━━┩\n",
       "│ dropout_1 (<span style=\"color: #0087ff; text-decoration-color: #0087ff\">Dropout</span>)             │ ?                      │             <span style=\"color: #00af00; text-decoration-color: #00af00\">0</span> │\n",
       "├─────────────────────────────────┼────────────────────────┼───────────────┤\n",
       "│ dense_1 (<span style=\"color: #0087ff; text-decoration-color: #0087ff\">Dense</span>)                 │ ?                      │   <span style=\"color: #00af00; text-decoration-color: #00af00\">0</span> (unbuilt) │\n",
       "└─────────────────────────────────┴────────────────────────┴───────────────┘\n",
       "</pre>\n"
      ],
      "text/plain": [
       "┏━━━━━━━━━━━━━━━━━━━━━━━━━━━━━━━━━┳━━━━━━━━━━━━━━━━━━━━━━━━┳━━━━━━━━━━━━━━━┓\n",
       "┃\u001b[1m \u001b[0m\u001b[1mLayer (type)                   \u001b[0m\u001b[1m \u001b[0m┃\u001b[1m \u001b[0m\u001b[1mOutput Shape          \u001b[0m\u001b[1m \u001b[0m┃\u001b[1m \u001b[0m\u001b[1m      Param #\u001b[0m\u001b[1m \u001b[0m┃\n",
       "┡━━━━━━━━━━━━━━━━━━━━━━━━━━━━━━━━━╇━━━━━━━━━━━━━━━━━━━━━━━━╇━━━━━━━━━━━━━━━┩\n",
       "│ dropout_1 (\u001b[38;5;33mDropout\u001b[0m)             │ ?                      │             \u001b[38;5;34m0\u001b[0m │\n",
       "├─────────────────────────────────┼────────────────────────┼───────────────┤\n",
       "│ dense_1 (\u001b[38;5;33mDense\u001b[0m)                 │ ?                      │   \u001b[38;5;34m0\u001b[0m (unbuilt) │\n",
       "└─────────────────────────────────┴────────────────────────┴───────────────┘\n"
      ]
     },
     "metadata": {},
     "output_type": "display_data"
    },
    {
     "data": {
      "text/html": [
       "<pre style=\"white-space:pre;overflow-x:auto;line-height:normal;font-family:Menlo,'DejaVu Sans Mono',consolas,'Courier New',monospace\"><span style=\"font-weight: bold\"> Total params: </span><span style=\"color: #00af00; text-decoration-color: #00af00\">0</span> (0.00 B)\n",
       "</pre>\n"
      ],
      "text/plain": [
       "\u001b[1m Total params: \u001b[0m\u001b[38;5;34m0\u001b[0m (0.00 B)\n"
      ]
     },
     "metadata": {},
     "output_type": "display_data"
    },
    {
     "data": {
      "text/html": [
       "<pre style=\"white-space:pre;overflow-x:auto;line-height:normal;font-family:Menlo,'DejaVu Sans Mono',consolas,'Courier New',monospace\"><span style=\"font-weight: bold\"> Trainable params: </span><span style=\"color: #00af00; text-decoration-color: #00af00\">0</span> (0.00 B)\n",
       "</pre>\n"
      ],
      "text/plain": [
       "\u001b[1m Trainable params: \u001b[0m\u001b[38;5;34m0\u001b[0m (0.00 B)\n"
      ]
     },
     "metadata": {},
     "output_type": "display_data"
    },
    {
     "data": {
      "text/html": [
       "<pre style=\"white-space:pre;overflow-x:auto;line-height:normal;font-family:Menlo,'DejaVu Sans Mono',consolas,'Courier New',monospace\"><span style=\"font-weight: bold\"> Non-trainable params: </span><span style=\"color: #00af00; text-decoration-color: #00af00\">0</span> (0.00 B)\n",
       "</pre>\n"
      ],
      "text/plain": [
       "\u001b[1m Non-trainable params: \u001b[0m\u001b[38;5;34m0\u001b[0m (0.00 B)\n"
      ]
     },
     "metadata": {},
     "output_type": "display_data"
    }
   ],
   "source": [
    "# Cell 5: Membangun Model (Menggunakan Model Subclassing - SOLUSI FINAL)\n",
    "\n",
    "print(\"Membangun model Keras dengan metode Subclassing...\")\n",
    "\n",
    "# 1. Definisikan arsitektur model di dalam sebuah class turunan dari tf.keras.Model\n",
    "class BatikLiteModel(tf.keras.Model):\n",
    "  def __init__(self, num_classes):\n",
    "    super().__init__()\n",
    "    # Definisikan semua layer yang dibutuhkan di sini\n",
    "    self.feature_extractor = hub.KerasLayer(\n",
    "        HUB_MODEL_URL,\n",
    "        trainable=False,\n",
    "        name='efficientnet_lite0_base'\n",
    "    )\n",
    "    self.dropout_layer = tf.keras.layers.Dropout(0.2)\n",
    "    self.output_layer = tf.keras.layers.Dense(num_classes, activation='softmax')\n",
    "\n",
    "  # Definisikan alur maju (forward pass) data di dalam method 'call'\n",
    "  def call(self, inputs):\n",
    "    x = self.feature_extractor(inputs)\n",
    "    x = self.dropout_layer(x)\n",
    "    x = self.output_layer(x)\n",
    "    return x\n",
    "\n",
    "# 2. Buat sebuah instance (objek) dari class model yang baru kita buat\n",
    "model = BatikLiteModel(num_classes=num_classes)\n",
    "\n",
    "# 3. (Penting) Panggil `build` agar model tahu bentuk inputnya dan .summary() bisa ditampilkan\n",
    "model.build((None,) + IMG_SIZE + (3,))\n",
    "\n",
    "# Tampilkan ringkasan arsitektur model\n",
    "model.summary()"
   ]
  },
  {
   "cell_type": "code",
   "execution_count": 18,
   "id": "6ca6173b",
   "metadata": {},
   "outputs": [
    {
     "name": "stdout",
     "output_type": "stream",
     "text": [
      "\n",
      "Memulai pelatihan model untuk 10 epoch...\n",
      "Epoch 1/10\n",
      "\u001b[1m34/34\u001b[0m \u001b[32m━━━━━━━━━━━━━━━━━━━━\u001b[0m\u001b[37m\u001b[0m \u001b[1m17s\u001b[0m 442ms/step - accuracy: 0.3678 - loss: 1.6156 - val_accuracy: 0.5963 - val_loss: 1.2180\n",
      "Epoch 2/10\n",
      "\u001b[1m34/34\u001b[0m \u001b[32m━━━━━━━━━━━━━━━━━━━━\u001b[0m\u001b[37m\u001b[0m \u001b[1m13s\u001b[0m 397ms/step - accuracy: 0.6336 - loss: 1.1005 - val_accuracy: 0.6481 - val_loss: 1.0279\n",
      "Epoch 3/10\n",
      "\u001b[1m34/34\u001b[0m \u001b[32m━━━━━━━━━━━━━━━━━━━━\u001b[0m\u001b[37m\u001b[0m \u001b[1m15s\u001b[0m 454ms/step - accuracy: 0.6862 - loss: 0.9382 - val_accuracy: 0.6889 - val_loss: 0.9378\n",
      "Epoch 4/10\n",
      "\u001b[1m34/34\u001b[0m \u001b[32m━━━━━━━━━━━━━━━━━━━━\u001b[0m\u001b[37m\u001b[0m \u001b[1m16s\u001b[0m 483ms/step - accuracy: 0.7165 - loss: 0.8421 - val_accuracy: 0.6963 - val_loss: 0.8840\n",
      "Epoch 5/10\n",
      "\u001b[1m34/34\u001b[0m \u001b[32m━━━━━━━━━━━━━━━━━━━━\u001b[0m\u001b[37m\u001b[0m \u001b[1m15s\u001b[0m 449ms/step - accuracy: 0.7392 - loss: 0.7789 - val_accuracy: 0.7296 - val_loss: 0.8465\n",
      "Epoch 6/10\n",
      "\u001b[1m34/34\u001b[0m \u001b[32m━━━━━━━━━━━━━━━━━━━━\u001b[0m\u001b[37m\u001b[0m \u001b[1m14s\u001b[0m 408ms/step - accuracy: 0.7581 - loss: 0.7313 - val_accuracy: 0.7370 - val_loss: 0.8184\n",
      "Epoch 7/10\n",
      "\u001b[1m34/34\u001b[0m \u001b[32m━━━━━━━━━━━━━━━━━━━━\u001b[0m\u001b[37m\u001b[0m \u001b[1m13s\u001b[0m 397ms/step - accuracy: 0.7690 - loss: 0.6926 - val_accuracy: 0.7370 - val_loss: 0.7961\n",
      "Epoch 8/10\n",
      "\u001b[1m34/34\u001b[0m \u001b[32m━━━━━━━━━━━━━━━━━━━━\u001b[0m\u001b[37m\u001b[0m \u001b[1m15s\u001b[0m 430ms/step - accuracy: 0.7786 - loss: 0.6599 - val_accuracy: 0.7444 - val_loss: 0.7778\n",
      "Epoch 9/10\n",
      "\u001b[1m34/34\u001b[0m \u001b[32m━━━━━━━━━━━━━━━━━━━━\u001b[0m\u001b[37m\u001b[0m \u001b[1m14s\u001b[0m 423ms/step - accuracy: 0.7883 - loss: 0.6316 - val_accuracy: 0.7444 - val_loss: 0.7624\n",
      "Epoch 10/10\n",
      "\u001b[1m34/34\u001b[0m \u001b[32m━━━━━━━━━━━━━━━━━━━━\u001b[0m\u001b[37m\u001b[0m \u001b[1m13s\u001b[0m 391ms/step - accuracy: 0.8051 - loss: 0.6067 - val_accuracy: 0.7481 - val_loss: 0.7491\n"
     ]
    }
   ],
   "source": [
    "# Kompilasi model dengan optimizer, loss function, dan metrik\n",
    "model.compile(\n",
    "    optimizer=tf.keras.optimizers.Adam(learning_rate=LEARNING_RATE),\n",
    "    loss='sparse_categorical_crossentropy',\n",
    "    metrics=['accuracy']\n",
    ")\n",
    "\n",
    "# Mulai proses pelatihan\n",
    "print(f\"\\nMemulai pelatihan model untuk {EPOCHS} epoch...\")\n",
    "history = model.fit(\n",
    "    train_dataset,\n",
    "    validation_data=validation_dataset,\n",
    "    epochs=EPOCHS\n",
    ")"
   ]
  },
  {
   "cell_type": "code",
   "execution_count": 19,
   "id": "ccb1f43b",
   "metadata": {},
   "outputs": [
    {
     "name": "stdout",
     "output_type": "stream",
     "text": [
      "\n",
      "Menghitung dan Menampilkan Metrik Evaluasi pada Validation Set...\n",
      "\u001b[1m9/9\u001b[0m \u001b[32m━━━━━━━━━━━━━━━━━━━━\u001b[0m\u001b[37m\u001b[0m \u001b[1m4s\u001b[0m 364ms/step\n",
      "\n",
      "--- Laporan Klasifikasi (Classification Report) ---\n",
      "                 precision    recall  f1-score   support\n",
      "\n",
      "   batik_ceplok       0.79      0.68      0.73        38\n",
      "   batik_kawung       0.74      0.73      0.74        48\n",
      "    batik_nitik       0.77      0.60      0.67        57\n",
      "   batik_parang       0.93      0.88      0.90        43\n",
      "batik_sidoluhur       0.60      0.89      0.72        36\n",
      "  batik_truntum       0.71      0.77      0.74        48\n",
      "\n",
      "       accuracy                           0.75       270\n",
      "      macro avg       0.76      0.76      0.75       270\n",
      "   weighted avg       0.76      0.75      0.75       270\n",
      "\n",
      "\n",
      "Skor Akurasi Keseluruhan: 0.7481 (74.81%)\n",
      "Skor Presisi (Weighted): 0.7610\n",
      "Skor Recall (Weighted): 0.7481\n"
     ]
    }
   ],
   "source": [
    "print(\"\\nMenghitung dan Menampilkan Metrik Evaluasi pada Validation Set...\")\n",
    "\n",
    "y_true = np.concatenate([y for x, y in validation_dataset], axis=0)\n",
    "\n",
    "predictions = model.predict(validation_dataset)\n",
    "y_pred = np.argmax(predictions, axis=1)\n",
    "\n",
    "print(\"\\n--- Laporan Klasifikasi (Classification Report) ---\")\n",
    "print(classification_report(y_true, y_pred, target_names=class_names))\n",
    "\n",
    "accuracy = accuracy_score(y_true, y_pred)\n",
    "precision = precision_score(y_true, y_pred, average='weighted')\n",
    "recall = recall_score(y_true, y_pred, average='weighted')\n",
    "\n",
    "print(f\"\\nSkor Akurasi Keseluruhan: {accuracy:.4f} ({accuracy:.2%})\")\n",
    "print(f\"Skor Presisi (Weighted): {precision:.4f}\")\n",
    "print(f\"Skor Recall (Weighted): {recall:.4f}\")\n",
    "\n",
    "acc = history.history['accuracy']"
   ]
  },
  {
   "cell_type": "code",
   "execution_count": 20,
   "id": "4283f094",
   "metadata": {},
   "outputs": [
    {
     "data": {
      "image/png": "[encoded data removed]",
      "text/plain": [
       "<Figure size 1200x500 with 2 Axes>"
      ]
     },
     "metadata": {},
     "output_type": "display_data"
    }
   ],
   "source": [
    "# Mengambil data histori pelatihan\n",
    "acc = history.history['accuracy']\n",
    "val_acc = history.history['val_accuracy']\n",
    "loss = history.history['loss']\n",
    "val_loss = history.history['val_loss']\n",
    "epochs_range = range(EPOCHS)\n",
    "\n",
    "# Membuat plot untuk Akurasi\n",
    "plt.figure(figsize=(12, 5))\n",
    "plt.subplot(1, 2, 1)\n",
    "plt.plot(epochs_range, acc, label='Training Accuracy')\n",
    "plt.plot(epochs_range, val_acc, label='Validation Accuracy')\n",
    "plt.legend(loc='lower right')\n",
    "plt.title('Training and Validation Accuracy')\n",
    "plt.xlabel('Epoch')\n",
    "plt.ylabel('Accuracy')\n",
    "\n",
    "# Membuat plot untuk Loss\n",
    "plt.subplot(1, 2, 2)\n",
    "plt.plot(epochs_range, loss, label='Training Loss')\n",
    "plt.plot(epochs_range, val_loss, label='Validation Loss')\n",
    "plt.legend(loc='upper right')\n",
    "plt.title('Training and Validation Loss')\n",
    "plt.xlabel('Epoch')\n",
    "plt.ylabel('Loss')\n",
    "\n",
    "# Tampilkan plot\n",
    "plt.show()"
   ]
  },
  {
   "cell_type": "code",
   "execution_count": 21,
   "id": "47be15c8",
   "metadata": {},
   "outputs": [
    {
     "name": "stderr",
     "output_type": "stream",
     "text": [
      "WARNING:absl:You are saving your model as an HDF5 file via `model.save()` or `keras.saving.save_model(model)`. This file format is considered legacy. We recommend using instead the native Keras format, e.g. `model.save('my_model.keras')` or `keras.saving.save_model(model, 'my_model.keras')`. \n"
     ]
    },
    {
     "name": "stdout",
     "output_type": "stream",
     "text": [
      "\n",
      "Menyimpan model yang telah dilatih ke 'batik_lite_model2.h5'...\n",
      "Model baru berhasil disimpan!\n"
     ]
    }
   ],
   "source": [
    "# Simpan model yang sudah dilatih ke dalam file .h5\n",
    "NEW_MODEL_PATH = 'batik_lite_model2.h5'\n",
    "print(f\"\\nMenyimpan model yang telah dilatih ke '{NEW_MODEL_PATH}'...\")\n",
    "\n",
    "model.save(NEW_MODEL_PATH)\n",
    "\n",
    "print(\"Model baru berhasil disimpan!\")"
   ]
  }
 ],
 "metadata": {
  "kernelspec": {
   "display_name": "Python 3",
   "language": "python",
   "name": "python3"
  },
  "language_info": {
   "codemirror_mode": {
    "name": "ipython",
    "version": 3
   },
   "file_extension": ".py",
   "mimetype": "text/x-python",
   "name": "python",
   "nbconvert_exporter": "python",
   "pygments_lexer": "ipython3",
   "version": "3.10.11"
  }
 },
 "nbformat": 4,
 "nbformat_minor": 5
}
