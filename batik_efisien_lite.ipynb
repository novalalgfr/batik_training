{
 "cells": [
  {
   "cell_type": "code",
   "execution_count": 22,
   "id": "1c9e802c",
   "metadata": {},
   "outputs": [],
   "source": [
    "# Import library yang dibutuhkan\n",
    "import tensorflow as tf\n",
    "import tensorflow_hub as hub\n",
    "import numpy as np\n",
    "import matplotlib.pyplot as plt\n",
    "from sklearn.metrics import classification_report, accuracy_score, precision_score, recall_score"
   ]
  },
  {
   "cell_type": "code",
   "execution_count": 23,
   "id": "90ec4f59",
   "metadata": {},
   "outputs": [],
   "source": [
    "# Konfigurasi parameter untuk model dan data\n",
    "IMG_SIZE = (224, 224)\n",
    "BATCH_SIZE = 32\n",
    "DATASET_DIR = 'batik_jogja' # Pastikan folder ini ada di direktori yang sama\n",
    "LEARNING_RATE = 0.001\n",
    "EPOCHS = 25 # Anda bisa menambahkannya untuk akurasi yang lebih baik\n",
    "\n",
    "# URL model EfficientNet-Lite0 dari TensorFlow Hub\n",
    "HUB_MODEL_URL = \"https://tfhub.dev/tensorflow/efficientnet/lite0/feature-vector/2\""
   ]
  },
  {
   "cell_type": "code",
   "execution_count": 24,
   "id": "2667013d",
   "metadata": {},
   "outputs": [
    {
     "name": "stdout",
     "output_type": "stream",
     "text": [
      "Memuat dataset dari direktori...\n",
      "Found 1350 files belonging to 6 classes.\n",
      "Using 1080 files for training.\n",
      "Found 1350 files belonging to 6 classes.\n",
      "Using 270 files for validation.\n",
      "\n",
      "Kelas yang ditemukan: ['batik_ceplok' 'batik_kawung' 'batik_nitik' 'batik_parang'\n",
      " 'batik_sidoluhur' 'batik_truntum']\n"
     ]
    }
   ],
   "source": [
    "print(\"Memuat dataset dari direktori...\")\n",
    "\n",
    "# Dataset untuk training (80% dari data)\n",
    "train_dataset = tf.keras.utils.image_dataset_from_directory(\n",
    "    DATASET_DIR,\n",
    "    image_size=IMG_SIZE,\n",
    "    batch_size=BATCH_SIZE,\n",
    "    validation_split=0.2,\n",
    "    subset=\"training\",\n",
    "    seed=123\n",
    ")\n",
    "\n",
    "# Dataset untuk validasi (20% dari data)\n",
    "validation_dataset = tf.keras.utils.image_dataset_from_directory(\n",
    "    DATASET_DIR,\n",
    "    image_size=IMG_SIZE,\n",
    "    batch_size=BATCH_SIZE,\n",
    "    validation_split=0.2,\n",
    "    subset=\"validation\",\n",
    "    seed=123\n",
    ")\n",
    "\n",
    "# Simpan nama kelas\n",
    "class_names = np.array(train_dataset.class_names)\n",
    "num_classes = len(class_names)\n",
    "print(\"\\nKelas yang ditemukan:\", class_names)"
   ]
  },
  {
   "cell_type": "code",
   "execution_count": 25,
   "id": "ae5b4110",
   "metadata": {},
   "outputs": [
    {
     "name": "stdout",
     "output_type": "stream",
     "text": [
      "\n",
      "Dataset siap digunakan.\n"
     ]
    }
   ],
   "source": [
    "# Menggunakan cache dan prefetch untuk mempercepat loading data saat training\n",
    "AUTOTUNE = tf.data.AUTOTUNE\n",
    "\n",
    "train_dataset = train_dataset.cache().prefetch(buffer_size=AUTOTUNE)\n",
    "validation_dataset = validation_dataset.cache().prefetch(buffer_size=AUTOTUNE)\n",
    "\n",
    "print(\"\\nDataset siap digunakan.\")"
   ]
  },
  {
   "cell_type": "code",
   "execution_count": 26,
   "id": "552e7d8e",
   "metadata": {},
   "outputs": [
    {
     "name": "stdout",
     "output_type": "stream",
     "text": [
      "Membangun model Keras dengan metode Subclassing...\n"
     ]
    },
    {
     "name": "stderr",
     "output_type": "stream",
     "text": [
      "c:\\Users\\Noval.DESKTOP-G118GKA\\AppData\\Local\\Programs\\Python\\Python310\\lib\\site-packages\\keras\\src\\layers\\layer.py:421: UserWarning: `build()` was called on layer 'batik_lite_model_2', however the layer does not have a `build()` method implemented and it looks like it has unbuilt state. This will cause the layer to be marked as built, despite not being actually built, which may cause failures down the line. Make sure to implement a proper `build()` method.\n",
      "  warnings.warn(\n"
     ]
    },
    {
     "data": {
      "text/html": [
       "<pre style=\"white-space:pre;overflow-x:auto;line-height:normal;font-family:Menlo,'DejaVu Sans Mono',consolas,'Courier New',monospace\"><span style=\"font-weight: bold\">Model: \"batik_lite_model_2\"</span>\n",
       "</pre>\n"
      ],
      "text/plain": [
       "\u001b[1mModel: \"batik_lite_model_2\"\u001b[0m\n"
      ]
     },
     "metadata": {},
     "output_type": "display_data"
    },
    {
     "data": {
      "text/html": [
       "<pre style=\"white-space:pre;overflow-x:auto;line-height:normal;font-family:Menlo,'DejaVu Sans Mono',consolas,'Courier New',monospace\">┏━━━━━━━━━━━━━━━━━━━━━━━━━━━━━━━━━┳━━━━━━━━━━━━━━━━━━━━━━━━┳━━━━━━━━━━━━━━━┓\n",
       "┃<span style=\"font-weight: bold\"> Layer (type)                    </span>┃<span style=\"font-weight: bold\"> Output Shape           </span>┃<span style=\"font-weight: bold\">       Param # </span>┃\n",
       "┡━━━━━━━━━━━━━━━━━━━━━━━━━━━━━━━━━╇━━━━━━━━━━━━━━━━━━━━━━━━╇━━━━━━━━━━━━━━━┩\n",
       "│ dropout_2 (<span style=\"color: #0087ff; text-decoration-color: #0087ff\">Dropout</span>)             │ ?                      │             <span style=\"color: #00af00; text-decoration-color: #00af00\">0</span> │\n",
       "├─────────────────────────────────┼────────────────────────┼───────────────┤\n",
       "│ dense_2 (<span style=\"color: #0087ff; text-decoration-color: #0087ff\">Dense</span>)                 │ ?                      │   <span style=\"color: #00af00; text-decoration-color: #00af00\">0</span> (unbuilt) │\n",
       "└─────────────────────────────────┴────────────────────────┴───────────────┘\n",
       "</pre>\n"
      ],
      "text/plain": [
       "┏━━━━━━━━━━━━━━━━━━━━━━━━━━━━━━━━━┳━━━━━━━━━━━━━━━━━━━━━━━━┳━━━━━━━━━━━━━━━┓\n",
       "┃\u001b[1m \u001b[0m\u001b[1mLayer (type)                   \u001b[0m\u001b[1m \u001b[0m┃\u001b[1m \u001b[0m\u001b[1mOutput Shape          \u001b[0m\u001b[1m \u001b[0m┃\u001b[1m \u001b[0m\u001b[1m      Param #\u001b[0m\u001b[1m \u001b[0m┃\n",
       "┡━━━━━━━━━━━━━━━━━━━━━━━━━━━━━━━━━╇━━━━━━━━━━━━━━━━━━━━━━━━╇━━━━━━━━━━━━━━━┩\n",
       "│ dropout_2 (\u001b[38;5;33mDropout\u001b[0m)             │ ?                      │             \u001b[38;5;34m0\u001b[0m │\n",
       "├─────────────────────────────────┼────────────────────────┼───────────────┤\n",
       "│ dense_2 (\u001b[38;5;33mDense\u001b[0m)                 │ ?                      │   \u001b[38;5;34m0\u001b[0m (unbuilt) │\n",
       "└─────────────────────────────────┴────────────────────────┴───────────────┘\n"
      ]
     },
     "metadata": {},
     "output_type": "display_data"
    },
    {
     "data": {
      "text/html": [
       "<pre style=\"white-space:pre;overflow-x:auto;line-height:normal;font-family:Menlo,'DejaVu Sans Mono',consolas,'Courier New',monospace\"><span style=\"font-weight: bold\"> Total params: </span><span style=\"color: #00af00; text-decoration-color: #00af00\">0</span> (0.00 B)\n",
       "</pre>\n"
      ],
      "text/plain": [
       "\u001b[1m Total params: \u001b[0m\u001b[38;5;34m0\u001b[0m (0.00 B)\n"
      ]
     },
     "metadata": {},
     "output_type": "display_data"
    },
    {
     "data": {
      "text/html": [
       "<pre style=\"white-space:pre;overflow-x:auto;line-height:normal;font-family:Menlo,'DejaVu Sans Mono',consolas,'Courier New',monospace\"><span style=\"font-weight: bold\"> Trainable params: </span><span style=\"color: #00af00; text-decoration-color: #00af00\">0</span> (0.00 B)\n",
       "</pre>\n"
      ],
      "text/plain": [
       "\u001b[1m Trainable params: \u001b[0m\u001b[38;5;34m0\u001b[0m (0.00 B)\n"
      ]
     },
     "metadata": {},
     "output_type": "display_data"
    },
    {
     "data": {
      "text/html": [
       "<pre style=\"white-space:pre;overflow-x:auto;line-height:normal;font-family:Menlo,'DejaVu Sans Mono',consolas,'Courier New',monospace\"><span style=\"font-weight: bold\"> Non-trainable params: </span><span style=\"color: #00af00; text-decoration-color: #00af00\">0</span> (0.00 B)\n",
       "</pre>\n"
      ],
      "text/plain": [
       "\u001b[1m Non-trainable params: \u001b[0m\u001b[38;5;34m0\u001b[0m (0.00 B)\n"
      ]
     },
     "metadata": {},
     "output_type": "display_data"
    }
   ],
   "source": [
    "# Cell 5: Membangun Model (Menggunakan Model Subclassing - SOLUSI FINAL)\n",
    "\n",
    "print(\"Membangun model Keras dengan metode Subclassing...\")\n",
    "\n",
    "# 1. Definisikan arsitektur model di dalam sebuah class turunan dari tf.keras.Model\n",
    "class BatikLiteModel(tf.keras.Model):\n",
    "  def __init__(self, num_classes):\n",
    "    super().__init__()\n",
    "    # Definisikan semua layer yang dibutuhkan di sini\n",
    "    self.feature_extractor = hub.KerasLayer(\n",
    "        HUB_MODEL_URL,\n",
    "        trainable=False,\n",
    "        name='efficientnet_lite0_base'\n",
    "    )\n",
    "    self.dropout_layer = tf.keras.layers.Dropout(0.2)\n",
    "    self.output_layer = tf.keras.layers.Dense(num_classes, activation='softmax')\n",
    "\n",
    "  # Definisikan alur maju (forward pass) data di dalam method 'call'\n",
    "  def call(self, inputs):\n",
    "    x = self.feature_extractor(inputs)\n",
    "    x = self.dropout_layer(x)\n",
    "    x = self.output_layer(x)\n",
    "    return x\n",
    "\n",
    "# 2. Buat sebuah instance (objek) dari class model yang baru kita buat\n",
    "model = BatikLiteModel(num_classes=num_classes)\n",
    "\n",
    "# 3. (Penting) Panggil `build` agar model tahu bentuk inputnya dan .summary() bisa ditampilkan\n",
    "model.build((None,) + IMG_SIZE + (3,))\n",
    "\n",
    "# Tampilkan ringkasan arsitektur model\n",
    "model.summary()"
   ]
  },
  {
   "cell_type": "code",
   "execution_count": 27,
   "id": "6ca6173b",
   "metadata": {},
   "outputs": [
    {
     "name": "stdout",
     "output_type": "stream",
     "text": [
      "\n",
      "Memulai pelatihan model untuk 25 epoch...\n",
      "Epoch 1/25\n",
      "\u001b[1m34/34\u001b[0m \u001b[32m━━━━━━━━━━━━━━━━━━━━\u001b[0m\u001b[37m\u001b[0m \u001b[1m27s\u001b[0m 721ms/step - accuracy: 0.2869 - loss: 1.7603 - val_accuracy: 0.5778 - val_loss: 1.2521\n",
      "Epoch 2/25\n",
      "\u001b[1m34/34\u001b[0m \u001b[32m━━━━━━━━━━━━━━━━━━━━\u001b[0m\u001b[37m\u001b[0m \u001b[1m24s\u001b[0m 698ms/step - accuracy: 0.6305 - loss: 1.1316 - val_accuracy: 0.6815 - val_loss: 1.0494\n",
      "Epoch 3/25\n",
      "\u001b[1m34/34\u001b[0m \u001b[32m━━━━━━━━━━━━━━━━━━━━\u001b[0m\u001b[37m\u001b[0m \u001b[1m23s\u001b[0m 687ms/step - accuracy: 0.6792 - loss: 0.9560 - val_accuracy: 0.7037 - val_loss: 0.9524\n",
      "Epoch 4/25\n",
      "\u001b[1m34/34\u001b[0m \u001b[32m━━━━━━━━━━━━━━━━━━━━\u001b[0m\u001b[37m\u001b[0m \u001b[1m21s\u001b[0m 625ms/step - accuracy: 0.7212 - loss: 0.8534 - val_accuracy: 0.7296 - val_loss: 0.8961\n",
      "Epoch 5/25\n",
      "\u001b[1m34/34\u001b[0m \u001b[32m━━━━━━━━━━━━━━━━━━━━\u001b[0m\u001b[37m\u001b[0m \u001b[1m19s\u001b[0m 550ms/step - accuracy: 0.7486 - loss: 0.7860 - val_accuracy: 0.7370 - val_loss: 0.8575\n",
      "Epoch 6/25\n",
      "\u001b[1m34/34\u001b[0m \u001b[32m━━━━━━━━━━━━━━━━━━━━\u001b[0m\u001b[37m\u001b[0m \u001b[1m20s\u001b[0m 593ms/step - accuracy: 0.7609 - loss: 0.7359 - val_accuracy: 0.7444 - val_loss: 0.8284\n",
      "Epoch 7/25\n",
      "\u001b[1m34/34\u001b[0m \u001b[32m━━━━━━━━━━━━━━━━━━━━\u001b[0m\u001b[37m\u001b[0m \u001b[1m21s\u001b[0m 624ms/step - accuracy: 0.7691 - loss: 0.6956 - val_accuracy: 0.7481 - val_loss: 0.8054\n",
      "Epoch 8/25\n",
      "\u001b[1m34/34\u001b[0m \u001b[32m━━━━━━━━━━━━━━━━━━━━\u001b[0m\u001b[37m\u001b[0m \u001b[1m22s\u001b[0m 649ms/step - accuracy: 0.7840 - loss: 0.6618 - val_accuracy: 0.7481 - val_loss: 0.7867\n",
      "Epoch 9/25\n",
      "\u001b[1m34/34\u001b[0m \u001b[32m━━━━━━━━━━━━━━━━━━━━\u001b[0m\u001b[37m\u001b[0m \u001b[1m21s\u001b[0m 617ms/step - accuracy: 0.7916 - loss: 0.6327 - val_accuracy: 0.7556 - val_loss: 0.7709\n",
      "Epoch 10/25\n",
      "\u001b[1m34/34\u001b[0m \u001b[32m━━━━━━━━━━━━━━━━━━━━\u001b[0m\u001b[37m\u001b[0m \u001b[1m22s\u001b[0m 666ms/step - accuracy: 0.8017 - loss: 0.6073 - val_accuracy: 0.7556 - val_loss: 0.7575\n",
      "Epoch 11/25\n",
      "\u001b[1m34/34\u001b[0m \u001b[32m━━━━━━━━━━━━━━━━━━━━\u001b[0m\u001b[37m\u001b[0m \u001b[1m20s\u001b[0m 600ms/step - accuracy: 0.8221 - loss: 0.5848 - val_accuracy: 0.7593 - val_loss: 0.7458\n",
      "Epoch 12/25\n",
      "\u001b[1m34/34\u001b[0m \u001b[32m━━━━━━━━━━━━━━━━━━━━\u001b[0m\u001b[37m\u001b[0m \u001b[1m19s\u001b[0m 548ms/step - accuracy: 0.8269 - loss: 0.5646 - val_accuracy: 0.7556 - val_loss: 0.7355\n",
      "Epoch 13/25\n",
      "\u001b[1m34/34\u001b[0m \u001b[32m━━━━━━━━━━━━━━━━━━━━\u001b[0m\u001b[37m\u001b[0m \u001b[1m21s\u001b[0m 629ms/step - accuracy: 0.8323 - loss: 0.5464 - val_accuracy: 0.7556 - val_loss: 0.7263\n",
      "Epoch 14/25\n",
      "\u001b[1m34/34\u001b[0m \u001b[32m━━━━━━━━━━━━━━━━━━━━\u001b[0m\u001b[37m\u001b[0m \u001b[1m23s\u001b[0m 688ms/step - accuracy: 0.8416 - loss: 0.5297 - val_accuracy: 0.7593 - val_loss: 0.7181\n",
      "Epoch 15/25\n",
      "\u001b[1m34/34\u001b[0m \u001b[32m━━━━━━━━━━━━━━━━━━━━\u001b[0m\u001b[37m\u001b[0m \u001b[1m24s\u001b[0m 708ms/step - accuracy: 0.8489 - loss: 0.5144 - val_accuracy: 0.7556 - val_loss: 0.7106\n",
      "Epoch 16/25\n",
      "\u001b[1m34/34\u001b[0m \u001b[32m━━━━━━━━━━━━━━━━━━━━\u001b[0m\u001b[37m\u001b[0m \u001b[1m22s\u001b[0m 650ms/step - accuracy: 0.8558 - loss: 0.5002 - val_accuracy: 0.7593 - val_loss: 0.7038\n",
      "Epoch 17/25\n",
      "\u001b[1m34/34\u001b[0m \u001b[32m━━━━━━━━━━━━━━━━━━━━\u001b[0m\u001b[37m\u001b[0m \u001b[1m21s\u001b[0m 619ms/step - accuracy: 0.8598 - loss: 0.4870 - val_accuracy: 0.7593 - val_loss: 0.6975\n",
      "Epoch 18/25\n",
      "\u001b[1m34/34\u001b[0m \u001b[32m━━━━━━━━━━━━━━━━━━━━\u001b[0m\u001b[37m\u001b[0m \u001b[1m21s\u001b[0m 629ms/step - accuracy: 0.8635 - loss: 0.4746 - val_accuracy: 0.7667 - val_loss: 0.6918\n",
      "Epoch 19/25\n",
      "\u001b[1m34/34\u001b[0m \u001b[32m━━━━━━━━━━━━━━━━━━━━\u001b[0m\u001b[37m\u001b[0m \u001b[1m22s\u001b[0m 643ms/step - accuracy: 0.8645 - loss: 0.4630 - val_accuracy: 0.7667 - val_loss: 0.6865\n",
      "Epoch 20/25\n",
      "\u001b[1m34/34\u001b[0m \u001b[32m━━━━━━━━━━━━━━━━━━━━\u001b[0m\u001b[37m\u001b[0m \u001b[1m27s\u001b[0m 800ms/step - accuracy: 0.8686 - loss: 0.4521 - val_accuracy: 0.7704 - val_loss: 0.6815\n",
      "Epoch 21/25\n",
      "\u001b[1m34/34\u001b[0m \u001b[32m━━━━━━━━━━━━━━━━━━━━\u001b[0m\u001b[37m\u001b[0m \u001b[1m22s\u001b[0m 648ms/step - accuracy: 0.8687 - loss: 0.4417 - val_accuracy: 0.7704 - val_loss: 0.6770\n",
      "Epoch 22/25\n",
      "\u001b[1m34/34\u001b[0m \u001b[32m━━━━━━━━━━━━━━━━━━━━\u001b[0m\u001b[37m\u001b[0m \u001b[1m20s\u001b[0m 605ms/step - accuracy: 0.8734 - loss: 0.4319 - val_accuracy: 0.7704 - val_loss: 0.6727\n",
      "Epoch 23/25\n",
      "\u001b[1m34/34\u001b[0m \u001b[32m━━━━━━━━━━━━━━━━━━━━\u001b[0m\u001b[37m\u001b[0m \u001b[1m20s\u001b[0m 606ms/step - accuracy: 0.8752 - loss: 0.4225 - val_accuracy: 0.7741 - val_loss: 0.6688\n",
      "Epoch 24/25\n",
      "\u001b[1m34/34\u001b[0m \u001b[32m━━━━━━━━━━━━━━━━━━━━\u001b[0m\u001b[37m\u001b[0m \u001b[1m21s\u001b[0m 604ms/step - accuracy: 0.8799 - loss: 0.4136 - val_accuracy: 0.7704 - val_loss: 0.6651\n",
      "Epoch 25/25\n",
      "\u001b[1m34/34\u001b[0m \u001b[32m━━━━━━━━━━━━━━━━━━━━\u001b[0m\u001b[37m\u001b[0m \u001b[1m21s\u001b[0m 612ms/step - accuracy: 0.8847 - loss: 0.4051 - val_accuracy: 0.7667 - val_loss: 0.6617\n"
     ]
    }
   ],
   "source": [
    "# Kompilasi model dengan optimizer, loss function, dan metrik\n",
    "model.compile(\n",
    "    optimizer=tf.keras.optimizers.Adam(learning_rate=LEARNING_RATE),\n",
    "    loss='sparse_categorical_crossentropy',\n",
    "    metrics=['accuracy']\n",
    ")\n",
    "\n",
    "# Mulai proses pelatihan\n",
    "print(f\"\\nMemulai pelatihan model untuk {EPOCHS} epoch...\")\n",
    "history = model.fit(\n",
    "    train_dataset,\n",
    "    validation_data=validation_dataset,\n",
    "    epochs=EPOCHS\n",
    ")"
   ]
  },
  {
   "cell_type": "code",
   "execution_count": 28,
   "id": "ccb1f43b",
   "metadata": {},
   "outputs": [
    {
     "name": "stdout",
     "output_type": "stream",
     "text": [
      "\n",
      "Menghitung dan Menampilkan Metrik Evaluasi pada Validation Set...\n",
      "\u001b[1m9/9\u001b[0m \u001b[32m━━━━━━━━━━━━━━━━━━━━\u001b[0m\u001b[37m\u001b[0m \u001b[1m5s\u001b[0m 522ms/step\n",
      "\n",
      "--- Laporan Klasifikasi (Classification Report) ---\n",
      "                 precision    recall  f1-score   support\n",
      "\n",
      "   batik_ceplok       0.72      0.76      0.74        38\n",
      "   batik_kawung       0.77      0.75      0.76        48\n",
      "    batik_nitik       0.88      0.65      0.75        57\n",
      "   batik_parang       0.95      0.84      0.89        43\n",
      "batik_sidoluhur       0.63      0.86      0.73        36\n",
      "  batik_truntum       0.70      0.79      0.75        48\n",
      "\n",
      "       accuracy                           0.77       270\n",
      "      macro avg       0.78      0.78      0.77       270\n",
      "   weighted avg       0.78      0.77      0.77       270\n",
      "\n",
      "\n",
      "Skor Akurasi Keseluruhan: 0.7667 (76.67%)\n",
      "Skor Presisi (Weighted): 0.7845\n",
      "Skor Recall (Weighted): 0.7667\n"
     ]
    }
   ],
   "source": [
    "print(\"\\nMenghitung dan Menampilkan Metrik Evaluasi pada Validation Set...\")\n",
    "\n",
    "y_true = np.concatenate([y for x, y in validation_dataset], axis=0)\n",
    "\n",
    "predictions = model.predict(validation_dataset)\n",
    "y_pred = np.argmax(predictions, axis=1)\n",
    "\n",
    "print(\"\\n--- Laporan Klasifikasi (Classification Report) ---\")\n",
    "print(classification_report(y_true, y_pred, target_names=class_names))\n",
    "\n",
    "accuracy = accuracy_score(y_true, y_pred)\n",
    "precision = precision_score(y_true, y_pred, average='weighted')\n",
    "recall = recall_score(y_true, y_pred, average='weighted')\n",
    "\n",
    "print(f\"\\nSkor Akurasi Keseluruhan: {accuracy:.4f} ({accuracy:.2%})\")\n",
    "print(f\"Skor Presisi (Weighted): {precision:.4f}\")\n",
    "print(f\"Skor Recall (Weighted): {recall:.4f}\")\n",
    "\n",
    "acc = history.history['accuracy']"
   ]
  },
  {
   "cell_type": "code",
   "execution_count": 29,
   "id": "4283f094",
   "metadata": {},
   "outputs": [
    {
     "data": {
      "image/png": "[encoded data removed]",
      "text/plain": [
       "<Figure size 1200x500 with 2 Axes>"
      ]
     },
     "metadata": {},
     "output_type": "display_data"
    }
   ],
   "source": [
    "# Mengambil data histori pelatihan\n",
    "acc = history.history['accuracy']\n",
    "val_acc = history.history['val_accuracy']\n",
    "loss = history.history['loss']\n",
    "val_loss = history.history['val_loss']\n",
    "epochs_range = range(EPOCHS)\n",
    "\n",
    "# Membuat plot untuk Akurasi\n",
    "plt.figure(figsize=(12, 5))\n",
    "plt.subplot(1, 2, 1)\n",
    "plt.plot(epochs_range, acc, label='Training Accuracy')\n",
    "plt.plot(epochs_range, val_acc, label='Validation Accuracy')\n",
    "plt.legend(loc='lower right')\n",
    "plt.title('Training and Validation Accuracy')\n",
    "plt.xlabel('Epoch')\n",
    "plt.ylabel('Accuracy')\n",
    "\n",
    "# Membuat plot untuk Loss\n",
    "plt.subplot(1, 2, 2)\n",
    "plt.plot(epochs_range, loss, label='Training Loss')\n",
    "plt.plot(epochs_range, val_loss, label='Validation Loss')\n",
    "plt.legend(loc='upper right')\n",
    "plt.title('Training and Validation Loss')\n",
    "plt.xlabel('Epoch')\n",
    "plt.ylabel('Loss')\n",
    "\n",
    "# Tampilkan plot\n",
    "plt.show()"
   ]
  },
  {
   "cell_type": "code",
   "execution_count": 30,
   "id": "47be15c8",
   "metadata": {},
   "outputs": [
    {
     "name": "stderr",
     "output_type": "stream",
     "text": [
      "WARNING:absl:You are saving your model as an HDF5 file via `model.save()` or `keras.saving.save_model(model)`. This file format is considered legacy. We recommend using instead the native Keras format, e.g. `model.save('my_model.keras')` or `keras.saving.save_model(model, 'my_model.keras')`. \n"
     ]
    },
    {
     "name": "stdout",
     "output_type": "stream",
     "text": [
      "\n",
      "Menyimpan model yang telah dilatih ke 'batik_lite_model2.h5'...\n",
      "Model baru berhasil disimpan!\n"
     ]
    }
   ],
   "source": [
    "# Simpan model yang sudah dilatih ke dalam file .h5\n",
    "NEW_MODEL_PATH = 'batik_lite_model2.h5'\n",
    "print(f\"\\nMenyimpan model yang telah dilatih ke '{NEW_MODEL_PATH}'...\")\n",
    "\n",
    "model.save(NEW_MODEL_PATH)\n",
    "\n",
    "print(\"Model baru berhasil disimpan!\")"
   ]
  }
 ],
 "metadata": {
  "kernelspec": {
   "display_name": "Python 3",
   "language": "python",
   "name": "python3"
  },
  "language_info": {
   "codemirror_mode": {
    "name": "ipython",
    "version": 3
   },
   "file_extension": ".py",
   "mimetype": "text/x-python",
   "name": "python",
   "nbconvert_exporter": "python",
   "pygments_lexer": "ipython3",
   "version": "3.10.11"
  }
 },
 "nbformat": 4,
 "nbformat_minor": 5
}
